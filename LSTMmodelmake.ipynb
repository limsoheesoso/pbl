{
 "cells": [
  {
   "cell_type": "code",
   "execution_count": 1,
   "metadata": {},
   "outputs": [
    {
     "name": "stdout",
     "output_type": "stream",
     "text": [
      "Model: \"sequential\"\n",
      "_________________________________________________________________\n",
      " Layer (type)                Output Shape              Param #   \n",
      "=================================================================\n",
      " lstm (LSTM)                 (None, 174, 128)          76288     \n",
      "                                                                 \n",
      " lstm_1 (LSTM)               (None, 128)               131584    \n",
      "                                                                 \n",
      " dense (Dense)               (None, 64)                8256      \n",
      "                                                                 \n",
      " dense_1 (Dense)             (None, 2)                 130       \n",
      "                                                                 \n",
      "=================================================================\n",
      "Total params: 216258 (844.76 KB)\n",
      "Trainable params: 216258 (844.76 KB)\n",
      "Non-trainable params: 0 (0.00 Byte)\n",
      "_________________________________________________________________\n",
      "모델이 'lstm_audio_classification_model.h5'로 성공적으로 저장되었습니다.\n"
     ]
    },
    {
     "name": "stderr",
     "output_type": "stream",
     "text": [
      "c:\\Users\\dlath\\AppData\\Local\\Programs\\Python\\Python38\\lib\\site-packages\\keras\\src\\engine\\training.py:3000: UserWarning: You are saving your model as an HDF5 file via `model.save()`. This file format is considered legacy. We recommend using instead the native Keras format, e.g. `model.save('my_model.keras')`.\n",
      "  saving_api.save_model(\n"
     ]
    }
   ],
   "source": [
    "import tensorflow as tf\n",
    "from tensorflow.keras.models import Sequential\n",
    "from tensorflow.keras.layers import LSTM, Dense\n",
    "\n",
    "# Define the LSTM model\n",
    "def create_lstm_model(input_shape):\n",
    "    model = Sequential([\n",
    "        LSTM(128, input_shape=input_shape, return_sequences=True),\n",
    "        LSTM(128),\n",
    "        Dense(64, activation='relu'),\n",
    "        Dense(2, activation='softmax')  # 이진 분류: 사람 vs 기계\n",
    "    ])\n",
    "\n",
    "    # Compile the model\n",
    "    model.compile(optimizer='adam',\n",
    "                  loss='categorical_crossentropy',\n",
    "                  metrics=['accuracy'])\n",
    "\n",
    "    return model\n",
    "\n",
    "# 모델 입력 형식 정의 (예: (타임 스텝, 특징 수))\n",
    "input_shape = (174, 20)  # 예시 입력 형식, 필요에 따라 조정하세요\n",
    "\n",
    "# 모델 생성\n",
    "model = create_lstm_model((input_shape[0], input_shape[1]))\n",
    "\n",
    "# 모델 요약 정보 출력\n",
    "model.summary()\n",
    "\n",
    "# 모델이 올바르게 생성되었는지 확인\n",
    "assert model is not None, \"모델이 올바르게 생성되지 않았습니다.\"\n",
    "\n",
    "# 모델을 h5 파일로 저장\n",
    "model.save('lstm_audio_classification_model.h5')\n",
    "\n",
    "print(\"모델이 'lstm_audio_classification_model.h5'로 성공적으로 저장되었습니다.\")\n"
   ]
  }
 ],
 "metadata": {
  "kernelspec": {
   "display_name": "Python 3",
   "language": "python",
   "name": "python3"
  },
  "language_info": {
   "codemirror_mode": {
    "name": "ipython",
    "version": 3
   },
   "file_extension": ".py",
   "mimetype": "text/x-python",
   "name": "python",
   "nbconvert_exporter": "python",
   "pygments_lexer": "ipython3",
   "version": "3.8.0"
  }
 },
 "nbformat": 4,
 "nbformat_minor": 2
}
